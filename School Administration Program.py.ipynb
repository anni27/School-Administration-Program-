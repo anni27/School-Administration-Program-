{
 "cells": [
  {
   "cell_type": "code",
   "execution_count": 2,
   "id": "3eb7f940",
   "metadata": {},
   "outputs": [
    {
     "name": "stdout",
     "output_type": "stream",
     "text": [
      "Enter student information in this format (Name, Age, Contact Number, E-mail Id): Aniket 21 9711311244 aniketpal0027@gmail.com\n",
      "Entered Information: Aniket 21 9711311244 aniketpal0027@gmail.com\n",
      "Entered split up informaation is: ['Aniket', '21', '9711311244', 'aniketpal0027@gmail.com']\n",
      "Enter (yes/no) fot continue student details: no\n"
     ]
    }
   ],
   "source": [
    "#School Administration Program \n",
    "import csv\n",
    "\n",
    "def write_into_csv(info_list):\n",
    "    with open('student_info_csv', 'a', newline='') as csv_file:\n",
    "        writer = csv.writer(csv_file)\n",
    "        \n",
    "        if csv_file.tell() == 0:\n",
    "            writer.writerow([\"Name\", \"Age\", \"Contact Number\", \"E-mail Id\"])\n",
    "            \n",
    "        writer.writerow(info_list)\n",
    "        \n",
    "condition = True\n",
    "\n",
    "while(condition):\n",
    "    student_info = input(\"Enter student information in this format (Name, Age, Contact Number, E-mail Id): \")\n",
    "    print(\"Entered Information: \" + student_info)\n",
    "    \n",
    "    #split\n",
    "    student_info_list = student_info.split(' ')\n",
    "    print(\"Entered split up informaation is: \" + str(student_info_list))\n",
    "    \n",
    "    write_into_csv(student_info_list)\n",
    "    \n",
    "    condition_check = input (\"Enter (yes/no) fot continue student details: \")\n",
    "    if condition_check == \"yes\":\n",
    "        condition = True\n",
    "    elif condition_check == \"no\":\n",
    "        condition = False"
   ]
  },
  {
   "cell_type": "code",
   "execution_count": null,
   "id": "a31c5779",
   "metadata": {},
   "outputs": [],
   "source": []
  }
 ],
 "metadata": {
  "kernelspec": {
   "display_name": "Python 3",
   "language": "python",
   "name": "python3"
  },
  "language_info": {
   "codemirror_mode": {
    "name": "ipython",
    "version": 3
   },
   "file_extension": ".py",
   "mimetype": "text/x-python",
   "name": "python",
   "nbconvert_exporter": "python",
   "pygments_lexer": "ipython3",
   "version": "3.8.8"
  }
 },
 "nbformat": 4,
 "nbformat_minor": 5
}
